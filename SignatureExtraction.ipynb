{
 "cells": [
  {
   "cell_type": "code",
   "execution_count": 1,
   "metadata": {},
   "outputs": [],
   "source": [
    "suppressMessages(library(tidyverse))\n",
    "suppressMessages(library(SomaticSignatures))"
   ]
  },
  {
   "cell_type": "code",
   "execution_count": 2,
   "metadata": {},
   "outputs": [],
   "source": [
    "suppressMessages(source(\"src/R/bio_utils.R\"))\n",
    "suppressMessages(source(\"src/R/data_utils.R\"))\n",
    "suppressMessages(source(\"src/R/plots.R\"))"
   ]
  },
  {
   "cell_type": "code",
   "execution_count": 3,
   "metadata": {},
   "outputs": [],
   "source": [
    "options(jupyter.plot_scale = 1)"
   ]
  },
  {
   "cell_type": "code",
   "execution_count": 4,
   "metadata": {},
   "outputs": [],
   "source": [
    "# extract signatures from data (if not, are loaded from file)\n",
    "c.extract_signatures <- FALSE"
   ]
  },
  {
   "cell_type": "code",
   "execution_count": 5,
   "metadata": {},
   "outputs": [],
   "source": [
    "# Load SNVs\n",
    "df <- read.csv(\"data/snv_list.csv\", stringsAsFactors = FALSE)"
   ]
  },
  {
   "cell_type": "code",
   "execution_count": 6,
   "metadata": {},
   "outputs": [],
   "source": [
    "# Make mutation tables for all snv and only ig ones\n",
    "mutation_table_full <- make_mutation_table(df, lymph)\n",
    "mutation_table_ig <-\n",
    "  make_mutation_table(df %>% filter(ig == \"True\"), lymph) %>%\n",
    "  dplyr::rename(\"IG CLL/MBL\" = \"CLL/MBL\", \"IG FL\" = \"FL\")\n",
    "\n",
    "# Combine mutation tables\n",
    "mutation_table <-\n",
    "  merge(mutation_table_full, mutation_table_ig, all = TRUE) %>%\n",
    "  replace(is.na(.), 0)"
   ]
  },
  {
   "cell_type": "markdown",
   "metadata": {},
   "source": [
    "## Mutational Profile"
   ]
  },
  {
   "cell_type": "code",
   "execution_count": 7,
   "metadata": {},
   "outputs": [
    {
     "data": {
      "image/png": "[encoded data removed]",
      "text/plain": [
       "plot without title"
      ]
     },
     "metadata": {
      "image/png": {
       "height": 480,
       "width": 960
      },
      "text/plain": {
       "height": 480,
       "width": 960
      }
     },
     "output_type": "display_data"
    }
   ],
   "source": [
    "options(repr.plot.width = 8, repr.plot.height = 4)\n",
    "print(plot_patterns(mutation_table))"
   ]
  },
  {
   "cell_type": "code",
   "execution_count": 8,
   "metadata": {},
   "outputs": [],
   "source": [
    "# get signatures, either extracting them or loading from file\n",
    "if (c.extract_signatures) {\n",
    "  mt <- make_mutation_table(df, sample, normalize = FALSE) %>%\n",
    "    `rownames<-`(paste(sub(\">\", \"\", .$substitution), .$context, sep = \" \")) %>%\n",
    "    dplyr::select(-c(substitution, context)) %>%\n",
    "    as.matrix()\n",
    "\n",
    "  sigs_nmf <- SomaticSignatures::identifySignatures(mt, 3, nmfDecomposition, nrun = 20)\n",
    "} else {\n",
    "  load(file = \"../data/signatures_nmf.Rdata\")\n",
    "}"
   ]
  },
  {
   "cell_type": "code",
   "execution_count": 9,
   "metadata": {},
   "outputs": [],
   "source": [
    "# transform the SomaticSignatures result to use our function to plot them\n",
    "sigs <- t(t(sigs_nmf@signatures) / colSums(sigs_nmf@signatures)) # normalization\n",
    "sigs <- as.data.frame(sigs) %>%\n",
    "  rownames_to_column(\"r\") %>%\n",
    "  separate(r, c(\"substitution\", \"context\"), sep = \" \") %>%\n",
    "  mutate(substitution = sub(\"^(.)(.)$\", \"\\\\1>\\\\2\", substitution)) %>%\n",
    "  dplyr::select(c(\"substitution\", \"context\", \"S1\", \"S2\", \"S3\"))"
   ]
  },
  {
   "cell_type": "markdown",
   "metadata": {},
   "source": [
    "## Signatures"
   ]
  },
  {
   "cell_type": "code",
   "execution_count": 10,
   "metadata": {},
   "outputs": [
    {
     "data": {
      "image/png": "[encoded data removed]",
      "text/plain": [
       "plot without title"
      ]
     },
     "metadata": {
      "image/png": {
       "height": 360,
       "width": 960
      },
      "text/plain": {
       "height": 360,
       "width": 960
      }
     },
     "output_type": "display_data"
    }
   ],
   "source": [
    "options(repr.plot.width = 8, repr.plot.height = 3)\n",
    "print(plot_patterns(sigs, colorby = \"sample\"))"
   ]
  },
  {
   "cell_type": "code",
   "execution_count": null,
   "metadata": {},
   "outputs": [],
   "source": []
  }
 ],
 "metadata": {
  "kernelspec": {
   "display_name": "R",
   "language": "R",
   "name": "ir"
  },
  "language_info": {
   "codemirror_mode": "r",
   "file_extension": ".r",
   "mimetype": "text/x-r-source",
   "name": "R",
   "pygments_lexer": "r",
   "version": "3.6.3"
  }
 },
 "nbformat": 4,
 "nbformat_minor": 4
}
