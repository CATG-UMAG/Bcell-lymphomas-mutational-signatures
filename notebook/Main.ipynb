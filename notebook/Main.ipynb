{
 "cells": [
  {
   "cell_type": "code",
   "execution_count": null,
   "metadata": {},
   "outputs": [],
   "source": [
    "suppressMessages(library(tidyverse))\n",
    "suppressMessages(library(cowplot))\n",
    "suppressMessages(library(R.utils))"
   ]
  },
  {
   "cell_type": "code",
   "execution_count": null,
   "metadata": {},
   "outputs": [],
   "source": [
    "suppressMessages(source(\"../lib/R/utils.R\"))\n",
    "suppressMessages(source(\"../lib/R/plots.R\"))"
   ]
  },
  {
   "cell_type": "code",
   "execution_count": null,
   "metadata": {},
   "outputs": [],
   "source": [
    "options(jupyter.plot_scale = 1)"
   ]
  },
  {
   "cell_type": "code",
   "execution_count": null,
   "metadata": {},
   "outputs": [],
   "source": [
    "# Notebook inputs\n",
    "c_data_dir <- get_var(\"DATA_DIR\", default = \"../data\")\n",
    "c_output_dir <- get_var(\"OUTPUT_DIR\", default = \"output\")\n",
    "c_selected_signatures <- as.vector(\n",
    "  str_split(get_var(\"FITTING_REFERENCE_SIGNATURES\", default = \"\"), \",\", simplify = TRUE)\n",
    ")\n",
    "c_cosmic_genome <- get_var(\"COSMIC_GENOME\", default = \"GRCh38\")\n",
    "c_cosmic_version <- as.numeric(get_var(\"COSMIC_VERSION\", default = 3.2))\n",
    "\n",
    "c_snv_list <- glue::glue(c_data_dir, \"/snv_list.csv\")\n",
    "c_signatures <- glue::glue(c_data_dir, \"/signatures.csv\")\n",
    "c_contributions <- glue::glue(c_data_dir, \"/contributions.csv\")\n",
    "c_extraction_stats <- glue::glue(c_data_dir, \"/statistics.csv\")\n",
    "c_extra_signatures <- glue::glue(c_data_dir, \"/extra_signatures.csv\")"
   ]
  },
  {
   "cell_type": "code",
   "execution_count": null,
   "metadata": {},
   "outputs": [],
   "source": [
    "dir.create(glue::glue(\"{c_output_dir}/reconstruction/\"), recursive = TRUE, showWarnings = FALSE)"
   ]
  },
  {
   "cell_type": "code",
   "execution_count": null,
   "metadata": {},
   "outputs": [],
   "source": [
    "# DELETE ME\n",
    "c_selected_signatures <- c(\"SBS1\", \"SBS3\", \"SBS5\", \"SBS6\", \"SBS9\", \"SBS84\")"
   ]
  },
  {
   "cell_type": "code",
   "execution_count": null,
   "metadata": {},
   "outputs": [],
   "source": [
    "# Load SNVs\n",
    "df <- read.csv(c_snv_list, stringsAsFactors = FALSE) %>%\n",
    "  dplyr::mutate(substitution = stringr::str_extract(mutation_type, \".>.\"))"
   ]
  },
  {
   "cell_type": "markdown",
   "metadata": {},
   "source": [
    "# Mutational Signatures Analysis"
   ]
  },
  {
   "cell_type": "markdown",
   "metadata": {},
   "source": [
    "## 1. RAW Mutation Counts"
   ]
  },
  {
   "cell_type": "markdown",
   "metadata": {},
   "source": [
    "### 1.1. Mutational Profile"
   ]
  },
  {
   "cell_type": "markdown",
   "metadata": {},
   "source": [
    "This is the representation of the RAW counts classified by substitution and context classified by group, useful to have a overall landscape of the distribution of the mutations (specially if the samples are clasiffied in different groups).\n",
    "The \"IG\" groups corresponds to the mutations in the immunoglobulin loci."
   ]
  },
  {
   "cell_type": "code",
   "execution_count": null,
   "metadata": {},
   "outputs": [],
   "source": [
    "# Make mutation tables for all snv and only ig ones\n",
    "mutation_table_full <- make_mutation_table(df, group)\n",
    "\n",
    "mutation_table_ig <-\n",
    "  make_mutation_table(df %>% filter(ig == \"True\"), group) %>%\n",
    "  dplyr::rename(\"IG CLL/MBL\" = \"CLL/MBL\", \"IG FL\" = \"FL\")\n",
    "\n",
    "# Combine mutation tables\n",
    "mutation_table <-\n",
    "  merge(mutation_table_full, mutation_table_ig, all = TRUE) %>%\n",
    "  replace(is.na(.), 0)"
   ]
  },
  {
   "cell_type": "code",
   "execution_count": null,
   "metadata": {},
   "outputs": [],
   "source": [
    "options(repr.plot.width = 10, repr.plot.height = 5)\n",
    "print(plot_patterns_96(mutation_table))"
   ]
  },
  {
   "cell_type": "markdown",
   "metadata": {},
   "source": [
    "### 1.2. AID Motifs"
   ]
  },
  {
   "cell_type": "markdown",
   "metadata": {},
   "source": [
    "This figure represent the distribution of the mutations considering the AID-related described motifs. These are\n",
    "- RCY, called canonical AID (cAID) motif. Normally expressed as a 4 nt motif; WRCY\n",
    "- WAN (or WA), called non-canonical AID (nc-AID) [Kasar et al 2015]\n",
    "- RCG, by signature 9 of COSMIC Mutational Signatures\n",
    "\n",
    "*W = A or T, R = purine, Y = pyrimidine*"
   ]
  },
  {
   "cell_type": "code",
   "execution_count": null,
   "metadata": {},
   "outputs": [],
   "source": [
    "motif_table <- df %>%\n",
    "    dplyr::count(group, ig, aid_pattern) %>%\n",
    "    dplyr::mutate(\n",
    "        aid_pattern = factor(replace(aid_pattern, aid_pattern == \"\", \"None\"), levels = c(\"RCY\", \"RCG\", \"WA\", \"None\")),\n",
    "        name = glue::glue(\"{ifelse(ig, 'IG', '')} {group}\"),\n",
    "    ) %>%\n",
    "    dplyr::group_by(group, aid_pattern) %>%\n",
    "    dplyr::mutate(n = ifelse(ig, n, sum(n))) %>%\n",
    "    dplyr::group_by(name) %>%\n",
    "    dplyr::mutate(perc = n / sum(n) * 100) %>%\n",
    "    dplyr::ungroup() %>%\n",
    "    dplyr::select(name, aid_pattern, n, perc) %>%\n",
    "    dplyr::arrange(name, aid_pattern) %>%\n",
    "    as.data.frame()"
   ]
  },
  {
   "cell_type": "code",
   "execution_count": null,
   "metadata": {},
   "outputs": [],
   "source": [
    "options(repr.plot.width = 10, repr.plot.height = 4)\n",
    "print(plot_aid_motifs(motif_table))"
   ]
  },
  {
   "cell_type": "markdown",
   "metadata": {},
   "source": [
    "## 2. Signature Extraction"
   ]
  },
  {
   "cell_type": "markdown",
   "metadata": {},
   "source": [
    "The extraction of signatures is a process that tries to decompose the complete mutational profile in multiple signals, each one corresponding a different underlying mutational procsess.\n",
    "\n",
    "Signature extraction is performed by [SigProfiler](https://github.com/AlexandrovLab/SigProfilerExtractor), considered the reference method at the moment."
   ]
  },
  {
   "cell_type": "markdown",
   "metadata": {},
   "source": [
    "### 2.1. Extraction Statistics"
   ]
  },
  {
   "cell_type": "markdown",
   "metadata": {},
   "source": [
    "SigProfiler collects two metrics for each number of signatures extracted, these are:\n",
    "- Average stability: the mean of the silhouettes for each signature cluster (produced by the multiple iterations of the factorization)\n",
    "- Mean cosine distance: the mean of the cosine distances between the original values for each sample and the reconstructed ones by Non-Negative Matrix Factorization\n",
    "\n",
    "SigProfiler automatically select an optimal number of singatures using these scores (this value is marked with an *)."
   ]
  },
  {
   "cell_type": "code",
   "execution_count": null,
   "metadata": {},
   "outputs": [],
   "source": [
    "# Read extraction stats\n",
    "extraction_stats <- read.csv(c_extraction_stats, stringsAsFactors = FALSE)"
   ]
  },
  {
   "cell_type": "code",
   "execution_count": null,
   "metadata": {},
   "outputs": [],
   "source": [
    "options(repr.plot.width = 10, repr.plot.height = 4)\n",
    "print(plot_extraction_statistics(extraction_stats))"
   ]
  },
  {
   "cell_type": "markdown",
   "metadata": {
    "tags": []
   },
   "source": [
    "### 2.2. Signatures"
   ]
  },
  {
   "cell_type": "markdown",
   "metadata": {},
   "source": [
    "If the parameter to force a number of signatures was used, the recommendation of SigProfiler will be ignored and the number of signatures displayed will not match the highlighted number displayed in the previous plot."
   ]
  },
  {
   "cell_type": "code",
   "execution_count": null,
   "metadata": {},
   "outputs": [],
   "source": [
    "# load signatures\n",
    "signatures <- read.csv(c_signatures) %>%\n",
    "  dplyr::mutate(X = sub(\"^(.)\\\\[(.>.)\\\\](.)$\", \"\\\\2 \\\\1.\\\\3\", mutation)) %>%\n",
    "  tidyr::separate(X, c(\"substitution\", \"context\"), \" \") %>%\n",
    "  dplyr::select(substitution, context, everything(), -mutation)\n",
    "\n",
    "contributions <- read.csv(c_contributions) %>%\n",
    "  tidyr::gather(\"signature\", \"contribution\", -sample) %>%\n",
    "  dplyr::group_by(sample) %>%\n",
    "  dplyr::mutate(contribution = contribution / sum(contribution))"
   ]
  },
  {
   "cell_type": "code",
   "execution_count": null,
   "metadata": {},
   "outputs": [],
   "source": [
    "options(repr.plot.width = 10, repr.plot.height = (ncol(signatures) - 2) * 1.5)\n",
    "print(plot_patterns_96(signatures, colorby = \"sample\"))"
   ]
  },
  {
   "cell_type": "markdown",
   "metadata": {},
   "source": [
    "### 2.3. Signature Contribution"
   ]
  },
  {
   "cell_type": "markdown",
   "metadata": {},
   "source": [
    "This plot shows how each signature contributes to the mutations present in each sample."
   ]
  },
  {
   "cell_type": "code",
   "execution_count": null,
   "metadata": {},
   "outputs": [],
   "source": [
    "options(repr.plot.width = 10, repr.plot.height = 5)\n",
    "plot_signature_contributions(contributions, from_extraction = TRUE)"
   ]
  },
  {
   "cell_type": "markdown",
   "metadata": {},
   "source": [
    "## 3. Comparison Against Reference Signatures"
   ]
  },
  {
   "cell_type": "markdown",
   "metadata": {},
   "source": [
    "### 3.1. Signature Reconstruction"
   ]
  },
  {
   "cell_type": "markdown",
   "metadata": {},
   "source": [
    "The reconstruction tries to explain the *denovo* extracted signatures using reference signatures.\n",
    "\n",
    "For this purpose each signature is tested against a combination of multiple reference signatures (2 in this case), using a Non Negative Least Squares (NNLS) optimization to find the optimal coefficients. Then, the reconstruction is compared to the original signal using cosine similarity."
   ]
  },
  {
   "cell_type": "code",
   "execution_count": null,
   "metadata": {},
   "outputs": [],
   "source": [
    "signatures_cosmic <- get_cosmic_signatures(version = c_cosmic_version, genome = c_cosmic_genome)"
   ]
  },
  {
   "cell_type": "code",
   "execution_count": null,
   "metadata": {},
   "outputs": [],
   "source": [
    "for (s in names(signatures) %>% purrr::discard(~ . %in% c(\"substitution\", \"context\", \"mutation\"))) {\n",
    "  reconstruction <- reconstruct_signatures(signatures[[s]], signatures_cosmic)\n",
    "\n",
    "  # print top hits\n",
    "  print(glue::glue(\"Top combinations {s}:\"))\n",
    "  print(head(reconstruction))\n",
    "  cat(\"\\n\")\n",
    "\n",
    "  # save full list\n",
    "  write.csv(reconstruction, glue::glue(\"{c_output_dir}/reconstruction/{s}.csv\"), row.names = FALSE)\n",
    "}"
   ]
  },
  {
   "cell_type": "markdown",
   "metadata": {},
   "source": [
    "### 3.2. Sample Fitting"
   ]
  },
  {
   "cell_type": "markdown",
   "metadata": {},
   "source": [
    "The fitting process tries to explain the mutations present in each sample but using a given set of reference signatures, not denovo ones.\n",
    "\n",
    "This process is performed by [deconstructSigs](https://github.com/raerose01/deconstructSigs)."
   ]
  },
  {
   "cell_type": "code",
   "execution_count": null,
   "metadata": {},
   "outputs": [],
   "source": [
    "# if selected signatures is empty, use all of them\n",
    "if (c_selected_signatures == \"\" || length(c_selected_signatures) == 0) {\n",
    "  c_selected_signatures <- colnames(signatures_cosmic) %>%\n",
    "    purrr::discard(~ . %in% c(\"mutation\", \"substitution\", \"context\"))\n",
    "}\n",
    "\n",
    "fitting_signatures <- signatures_cosmic %>%\n",
    "  dplyr::select(mutation, substitution, context, dplyr::one_of(c_selected_signatures))\n",
    "\n",
    "# load extra signatures\n",
    "if (isFile(c_extra_signatures)) {\n",
    "    extra_signatures <- read.csv(c_extra_signatures)\n",
    "    fitting_signatures <- fitting_signatures %>% left_join(extra_signatures, by=\"mutation\")\n",
    "}\n",
    "\n",
    "mutational_matrix <- df %>%\n",
    "  make_mutation_table(sample) %>%\n",
    "  dplyr::mutate(mutation = format_mutation(substitution, context))"
   ]
  },
  {
   "cell_type": "code",
   "execution_count": null,
   "metadata": {},
   "outputs": [],
   "source": [
    "fitting_table <- fit_signatures(mutational_matrix, fitting_signatures)\n",
    "write.csv(fitting_table %>% spread(signature, contribution), glue::glue(\"{c_output_dir}/fitting.csv\"), row.names = FALSE)"
   ]
  },
  {
   "cell_type": "code",
   "execution_count": null,
   "metadata": {},
   "outputs": [],
   "source": [
    "# make hierarchical cluster using DIANA\n",
    "fitting_hclust <- fitting_clustering(fitting_table)\n",
    "# reorder samples according to clustering result\n",
    "fitting_table <- fitting_table %>%\n",
    "  dplyr::mutate(sample = factor(sample, levels = fitting_hclust$order.lab))"
   ]
  },
  {
   "cell_type": "code",
   "execution_count": null,
   "metadata": {},
   "outputs": [],
   "source": [
    "options(repr.plot.width = 10, repr.plot.height = 7)\n",
    "plot_fitting_dend <- plot_hclust(fitting_hclust)\n",
    "plot_fitting_contrib <- plot_signature_contributions(fitting_table, from_extraction = FALSE) + theme(plot.margin = unit(c(0, 1, 0, 1), \"mm\"))\n",
    "plot_merged <- plot_grid(plot_fitting_dend, plot_fitting_contrib, nrow = 2, rel_heights = c(1, 3), align = \"v\", axis = \"lr\")\n",
    "print(plot_merged)"
   ]
  }
 ],
 "metadata": {
  "kernelspec": {
   "display_name": "R",
   "language": "R",
   "name": "ir"
  },
  "language_info": {
   "codemirror_mode": "r",
   "file_extension": ".r",
   "mimetype": "text/x-r-source",
   "name": "R",
   "pygments_lexer": "r",
   "version": "4.0.4"
  }
 },
 "nbformat": 4,
 "nbformat_minor": 4
}
